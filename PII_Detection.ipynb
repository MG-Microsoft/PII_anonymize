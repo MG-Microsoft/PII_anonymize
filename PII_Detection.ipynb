{
  "cells": [
    {
      "cell_type": "code",
      "source": [
        "\n",
        "#import openai\n",
        "#import os\n",
        "\n",
        "\n",
        "\n",
        "#os.environ['OPENAI_API_KEY'] = \"............\"\n",
        "#os.environ['OPENAI_API_TYPE']=\".......\"\n",
        "#os.environ['OPENAI_API_VERSION']=\".......\"\n",
        "#os.environ['OPENAI_API_BASE']=\"......\"\n"
      ],
      "outputs": [],
      "execution_count": 5,
      "metadata": {
        "jupyter": {
          "source_hidden": false,
          "outputs_hidden": false
        },
        "nteract": {
          "transient": {
            "deleting": false
          }
        },
        "gather": {
          "logged": 1707976232832
        }
      }
    },
    {
      "cell_type": "code",
      "source": [
        "# Use Python 3.8\n",
        "! pip install --upgrade --quiet  langchain langchain-openai langchain-experimental presidio-analyzer presidio-anonymizer spacy Faker\n",
        "#! pip install --upgrade jinja2\n",
        "#! pip install --upgrade markupsafe\n",
        "#! python -m spacy download en_core_web_lg"
      ],
      "outputs": [],
      "execution_count": 13,
      "metadata": {
        "gather": {
          "logged": 1707895822018
        }
      }
    },
    {
      "cell_type": "code",
      "source": [
        "from langchain_experimental.data_anonymizer import PresidioAnonymizer\n",
        "\n",
        "anonymizer = PresidioAnonymizer()\n",
        "\n",
        "anonymizer.anonymize(\n",
        "    \"My name is Slim Shady, call me at 313-666-7440 or email me at real.slim.shady@gmail.com\"\n",
        ")"
      ],
      "outputs": [
        {
          "output_type": "execute_result",
          "execution_count": 2,
          "data": {
            "text/plain": "'My name is Charles Pace, call me at +1-531-772-0831 or email me at robert02@example.com'"
          },
          "metadata": {}
        }
      ],
      "execution_count": 2,
      "metadata": {
        "jupyter": {
          "source_hidden": false,
          "outputs_hidden": false
        },
        "nteract": {
          "transient": {
            "deleting": false
          }
        },
        "gather": {
          "logged": 1707976173566
        }
      }
    },
    {
      "cell_type": "code",
      "source": [
        "anonymizer = PresidioAnonymizer(analyzed_fields=[\"PERSON\"])\n",
        "\n",
        "anonymizer.anonymize(\n",
        "    \"My name is Slim Shady, call me at 313-666-7440 or email me at real.slim.shady@gmail.com\"\n",
        ")"
      ],
      "outputs": [
        {
          "output_type": "execute_result",
          "execution_count": 7,
          "data": {
            "text/plain": "'My name is Wesley Hill, call me at 313-666-7440 or email me at real.slim.shady@gmail.com'"
          },
          "metadata": {}
        }
      ],
      "execution_count": 7,
      "metadata": {
        "jupyter": {
          "source_hidden": false,
          "outputs_hidden": false
        },
        "nteract": {
          "transient": {
            "deleting": false
          }
        },
        "gather": {
          "logged": 1707976362215
        }
      }
    },
    {
      "cell_type": "code",
      "source": [
        "anonymizer = PresidioAnonymizer(analyzed_fields=[\"PERSON\", \"PHONE_NUMBER\"])\n",
        "anonymizer.anonymize(\n",
        "    \"My name is Slim Shady, call me at 313-666-7440 or email me at real.slim.shady@gmail.com\"\n",
        ")"
      ],
      "outputs": [
        {
          "output_type": "execute_result",
          "execution_count": 8,
          "data": {
            "text/plain": "'My name is Jeremy Gonzalez, call me at (937)495-4597x1488 or email me at real.slim.shady@gmail.com'"
          },
          "metadata": {}
        }
      ],
      "execution_count": 8,
      "metadata": {
        "jupyter": {
          "source_hidden": false,
          "outputs_hidden": false
        },
        "nteract": {
          "transient": {
            "deleting": false
          }
        },
        "gather": {
          "logged": 1707976382188
        }
      }
    },
    {
      "cell_type": "code",
      "source": [
        "# Define the regex pattern in a Presidio `Pattern` object:\n",
        "from presidio_analyzer import Pattern, PatternRecognizer\n",
        "\n",
        "polish_phone_numbers_pattern = Pattern(\n",
        "    name=\"polish_phone_numbers_pattern\",\n",
        "    regex=\"(?<!\\w)(\\(?(\\+|00)?48\\)?)?[ -]?\\d{3}[ -]?\\d{3}[ -]?\\d{3}(?!\\w)\",\n",
        "    score=1,\n",
        ")\n",
        "\n",
        "# Define the recognizer with one or more patterns\n",
        "polish_phone_numbers_recognizer = PatternRecognizer(\n",
        "    supported_entity=\"POLISH_PHONE_NUMBER\", patterns=[polish_phone_numbers_pattern]\n",
        ")"
      ],
      "outputs": [],
      "execution_count": 10,
      "metadata": {
        "jupyter": {
          "source_hidden": false,
          "outputs_hidden": false
        },
        "nteract": {
          "transient": {
            "deleting": false
          }
        },
        "gather": {
          "logged": 1707976719515
        }
      }
    },
    {
      "cell_type": "code",
      "source": [
        "anonymizer.add_recognizer(polish_phone_numbers_recognizer)"
      ],
      "outputs": [],
      "execution_count": 11,
      "metadata": {
        "jupyter": {
          "source_hidden": false,
          "outputs_hidden": false
        },
        "nteract": {
          "transient": {
            "deleting": false
          }
        },
        "gather": {
          "logged": 1707976740570
        }
      }
    },
    {
      "cell_type": "code",
      "source": [
        "print(anonymizer.anonymize(\"My polish phone number is 666555444\"))\n",
        "print(anonymizer.anonymize(\"My polish phone number is 666 555 444\"))\n",
        "print(anonymizer.anonymize(\"My polish phone number is +48 666 555 444\"))"
      ],
      "outputs": [
        {
          "output_type": "stream",
          "name": "stdout",
          "text": "My polish phone number is <POLISH_PHONE_NUMBER>\nMy polish phone number is <POLISH_PHONE_NUMBER>\nMy polish phone number is <POLISH_PHONE_NUMBER>\n"
        }
      ],
      "execution_count": 12,
      "metadata": {
        "jupyter": {
          "source_hidden": false,
          "outputs_hidden": false
        },
        "nteract": {
          "transient": {
            "deleting": false
          }
        },
        "gather": {
          "logged": 1707976748082
        }
      }
    },
    {
      "cell_type": "code",
      "source": [
        "from faker import Faker\n",
        "\n",
        "fake = Faker(locale=\"pl_PL\")\n",
        "\n",
        "\n",
        "def fake_polish_phone_number(_=None):\n",
        "    return fake.phone_number()\n",
        "\n",
        "\n",
        "fake_polish_phone_number()"
      ],
      "outputs": [
        {
          "output_type": "execute_result",
          "execution_count": 13,
          "data": {
            "text/plain": "'+48 502 507 066'"
          },
          "metadata": {}
        }
      ],
      "execution_count": 13,
      "metadata": {
        "jupyter": {
          "source_hidden": false,
          "outputs_hidden": false
        },
        "nteract": {
          "transient": {
            "deleting": false
          }
        },
        "gather": {
          "logged": 1707976776294
        }
      }
    },
    {
      "cell_type": "code",
      "source": [
        "from presidio_anonymizer.entities import OperatorConfig\n",
        "\n",
        "new_operators = {\n",
        "    \"POLISH_PHONE_NUMBER\": OperatorConfig(\n",
        "        \"custom\", {\"lambda\": fake_polish_phone_number}\n",
        "    )\n",
        "}"
      ],
      "outputs": [],
      "execution_count": 14,
      "metadata": {
        "jupyter": {
          "source_hidden": false,
          "outputs_hidden": false
        },
        "nteract": {
          "transient": {
            "deleting": false
          }
        },
        "gather": {
          "logged": 1707976802388
        }
      }
    },
    {
      "cell_type": "code",
      "source": [
        "anonymizer.add_operators(new_operators)"
      ],
      "outputs": [],
      "execution_count": 15,
      "metadata": {
        "jupyter": {
          "source_hidden": false,
          "outputs_hidden": false
        },
        "nteract": {
          "transient": {
            "deleting": false
          }
        },
        "gather": {
          "logged": 1707976812133
        }
      }
    },
    {
      "cell_type": "code",
      "source": [
        "anonymizer.anonymize(\"My polish phone number is 666555444\")"
      ],
      "outputs": [
        {
          "output_type": "execute_result",
          "execution_count": 16,
          "data": {
            "text/plain": "'My polish phone number is +48 885 263 521'"
          },
          "metadata": {}
        }
      ],
      "execution_count": 16,
      "metadata": {
        "jupyter": {
          "source_hidden": false,
          "outputs_hidden": false
        },
        "nteract": {
          "transient": {
            "deleting": false
          }
        },
        "gather": {
          "logged": 1707976819707
        }
      }
    },
    {
      "cell_type": "code",
      "source": [
        "from langchain_experimental.data_anonymizer import PresidioReversibleAnonymizer\n",
        "\n",
        "anonymizer = PresidioReversibleAnonymizer(\n",
        "    analyzed_fields=[\"PERSON\", \"PHONE_NUMBER\", \"EMAIL_ADDRESS\", \"CREDIT_CARD\"],\n",
        "    # Faker seed is used here to make sure the same fake data is generated for the test purposes\n",
        "    # In production, it is recommended to remove the faker_seed parameter (it will default to None)\n",
        "    faker_seed=42,\n",
        ")\n",
        "\n",
        "anonymizer.anonymize(\n",
        "    \"My name is Slim Shady, call me at 313-666-7440 or email me at real.slim.shady@gmail.com. \"\n",
        "    \"By the way, my card number is: 4916 0387 9536 0861\"\n",
        ")\n",
        "\n"
      ],
      "outputs": [
        {
          "output_type": "execute_result",
          "execution_count": 17,
          "data": {
            "text/plain": "'My name is Maria Lynch, call me at 7344131647 or email me at jamesmichael@example.com. By the way, my card number is: 4838637940262'"
          },
          "metadata": {}
        }
      ],
      "execution_count": 17,
      "metadata": {
        "jupyter": {
          "source_hidden": false,
          "outputs_hidden": false
        },
        "nteract": {
          "transient": {
            "deleting": false
          }
        },
        "gather": {
          "logged": 1707977066299
        }
      }
    },
    {
      "cell_type": "code",
      "source": [
        "# We know this data, as we set the faker_seed parameter\n",
        "fake_name = \"Maria Lynch\"\n",
        "fake_phone = \"7344131647\"\n",
        "fake_email = \"jamesmichael@example.com\"\n",
        "fake_credit_card = \"4838637940262\"\n",
        "\n",
        "anonymized_text = f\"\"\"{fake_name} recently lost his wallet. \n",
        "Inside is some cash and his credit card with the number {fake_credit_card}. \n",
        "If you would find it, please call at {fake_phone} or write an email here: {fake_email}.\n",
        "{fake_name} would be very grateful!\"\"\"\n",
        "\n",
        "print(anonymized_text)"
      ],
      "outputs": [
        {
          "output_type": "stream",
          "name": "stdout",
          "text": "Maria Lynch recently lost his wallet. \nInside is some cash and his credit card with the number 4838637940262. \nIf you would find it, please call at 7344131647 or write an email here: jamesmichael@example.com.\nMaria Lynch would be very grateful!\n"
        }
      ],
      "execution_count": 18,
      "metadata": {
        "jupyter": {
          "source_hidden": false,
          "outputs_hidden": false
        },
        "nteract": {
          "transient": {
            "deleting": false
          }
        },
        "gather": {
          "logged": 1707977101498
        }
      }
    },
    {
      "cell_type": "code",
      "source": [
        "print(anonymizer.deanonymize(anonymized_text))"
      ],
      "outputs": [
        {
          "output_type": "stream",
          "name": "stdout",
          "text": "Slim Shady recently lost his wallet. \nInside is some cash and his credit card with the number 4916 0387 9536 0861. \nIf you would find it, please call at 313-666-7440 or write an email here: real.slim.shady@gmail.com.\nSlim Shady would be very grateful!\n"
        }
      ],
      "execution_count": 19,
      "metadata": {
        "jupyter": {
          "source_hidden": false,
          "outputs_hidden": false
        },
        "nteract": {
          "transient": {
            "deleting": false
          }
        },
        "gather": {
          "logged": 1707977130701
        }
      }
    }
  ],
  "metadata": {
    "kernelspec": {
      "name": "python38-azureml",
      "language": "python",
      "display_name": "Python 3.8 - AzureML"
    },
    "language_info": {
      "name": "python",
      "version": "3.8.5",
      "mimetype": "text/x-python",
      "codemirror_mode": {
        "name": "ipython",
        "version": 3
      },
      "pygments_lexer": "ipython3",
      "nbconvert_exporter": "python",
      "file_extension": ".py"
    },
    "microsoft": {
      "ms_spell_check": {
        "ms_spell_check_language": "en"
      },
      "host": {
        "AzureML": {
          "notebookHasBeenCompleted": true
        }
      }
    },
    "kernel_info": {
      "name": "python38-azureml"
    },
    "nteract": {
      "version": "nteract-front-end@1.0.0"
    }
  },
  "nbformat": 4,
  "nbformat_minor": 2
}